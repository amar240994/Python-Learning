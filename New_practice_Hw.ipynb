{
 "cells": [
  {
   "cell_type": "code",
   "execution_count": 13,
   "id": "801f0d9f",
   "metadata": {},
   "outputs": [],
   "source": [
    "f = open(\"amar.txt\",\"w\")\n",
    "f.write(\"Hi, I am Amar\")\n",
    "f.close()"
   ]
  },
  {
   "cell_type": "code",
   "execution_count": 23,
   "id": "efb3a2e1",
   "metadata": {},
   "outputs": [
    {
     "name": "stdout",
     "output_type": "stream",
     "text": [
      "enter the secret code : AmAr\n",
      "Wrong Password\n"
     ]
    }
   ],
   "source": [
    "pass1 = input(\"enter the secret code : \")\n",
    "\n",
    "f = open(\"amar.txt\")\n",
    "data = f.readlines()\n",
    "for i in data:\n",
    "    if (i == \"Password\"+ pass1):\n",
    "        print(\"correct\")\n",
    "        print(data)\n",
    "    else:\n",
    "        print(\"Wrong Password\")"
   ]
  },
  {
   "cell_type": "code",
   "execution_count": 25,
   "id": "59a12232",
   "metadata": {},
   "outputs": [
    {
     "name": "stdout",
     "output_type": "stream",
     "text": [
      "['Hello.  \\n', '\\n', '\\n', '\\n', 'Password:amarnath']\n"
     ]
    }
   ],
   "source": [
    "f = open(\"amar.txt\",\"r\")\n",
    "data=f.readlines()\n",
    "print(data)"
   ]
  },
  {
   "cell_type": "code",
   "execution_count": 9,
   "id": "68f2a3f8",
   "metadata": {},
   "outputs": [
    {
     "name": "stdout",
     "output_type": "stream",
     "text": [
      "Enter the key:amar\n",
      "Wrong\n"
     ]
    }
   ],
   "source": [
    "a = input(\"Enter the key:\")\n",
    "b = \"Password:\"\n",
    "\n",
    "f = open(\"amar.txt\",\"r\")\n",
    "data = f.read()\n",
    "    \n",
    "for i in data:\n",
    "    if i == b+ a :\n",
    "        print(\"Correct\")\n",
    "        print(data)\n",
    "        \n",
    "else:\n",
    "    print(\"Wrong\")\n",
    "    "
   ]
  },
  {
   "cell_type": "code",
   "execution_count": null,
   "id": "2de1d321",
   "metadata": {},
   "outputs": [],
   "source": []
  },
  {
   "cell_type": "code",
   "execution_count": null,
   "id": "a30e7c5d",
   "metadata": {},
   "outputs": [],
   "source": []
  }
 ],
 "metadata": {
  "kernelspec": {
   "display_name": "Python 3 (ipykernel)",
   "language": "python",
   "name": "python3"
  },
  "language_info": {
   "codemirror_mode": {
    "name": "ipython",
    "version": 3
   },
   "file_extension": ".py",
   "mimetype": "text/x-python",
   "name": "python",
   "nbconvert_exporter": "python",
   "pygments_lexer": "ipython3",
   "version": "3.11.7"
  }
 },
 "nbformat": 4,
 "nbformat_minor": 5
}
