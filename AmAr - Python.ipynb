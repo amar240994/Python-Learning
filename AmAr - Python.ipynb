{
 "cells": [
  {
   "cell_type": "code",
   "execution_count": 1,
   "id": "b217a72d",
   "metadata": {},
   "outputs": [
    {
     "name": "stdout",
     "output_type": "stream",
     "text": [
      "Hello World\n"
     ]
    }
   ],
   "source": [
    "print('Hello World')"
   ]
  },
  {
   "cell_type": "code",
   "execution_count": null,
   "id": "1d0f6d1e",
   "metadata": {},
   "outputs": [],
   "source": [
    "x = int(input(\"Enter a number\"))\n",
    "if x < 55:\n",
    "        print('I am Amar')\n",
    "\n",
    "       \n",
    "    else:\n",
    "        print('I am Vali')\n",
    "        \n",
    "        \"\"\"Hi Mein hoo yaha\"\"\" \n"
   ]
  },
  {
   "cell_type": "code",
   "execution_count": 13,
   "id": "7a231787",
   "metadata": {},
   "outputs": [
    {
     "name": "stdout",
     "output_type": "stream",
     "text": [
      "45\n",
      "Hello, your marks are 45 out of 100\n"
     ]
    }
   ],
   "source": [
    "a = 45\n",
    "b = 'Hello your marks'\n",
    "print(a)\n",
    "print('Hello, your marks are {} out of 100'.format(a))"
   ]
  },
  {
   "cell_type": "code",
   "execution_count": 18,
   "id": "49ff907b",
   "metadata": {},
   "outputs": [
    {
     "name": "stdout",
     "output_type": "stream",
     "text": [
      "I got 10 marks out of 12\n"
     ]
    }
   ],
   "source": [
    "a = 10  ;b = 12\n",
    "print(\"I got {} marks out of {}\".format(a,b))"
   ]
  },
  {
   "cell_type": "code",
   "execution_count": 22,
   "id": "6b261c25",
   "metadata": {},
   "outputs": [
    {
     "name": "stdout",
     "output_type": "stream",
     "text": [
      "Amar's girl got 22 marks\n"
     ]
    }
   ],
   "source": [
    "print(\"Amar's girl got {} marks\".format(a+b))"
   ]
  },
  {
   "cell_type": "code",
   "execution_count": 9,
   "id": "c34010d1",
   "metadata": {},
   "outputs": [
    {
     "ename": "NameError",
     "evalue": "name 'a' is not defined",
     "output_type": "error",
     "traceback": [
      "\u001b[0;31m---------------------------------------------------------------------------\u001b[0m",
      "\u001b[0;31mNameError\u001b[0m                                 Traceback (most recent call last)",
      "Cell \u001b[0;32mIn[9], line 1\u001b[0m\n\u001b[0;32m----> 1\u001b[0m \u001b[38;5;28mprint\u001b[39m(\u001b[38;5;124m\"\u001b[39m\u001b[38;5;124mAmar\u001b[39m\u001b[38;5;124m'\u001b[39m\u001b[38;5;124ms got \u001b[39m\u001b[38;5;132;01m{}\u001b[39;00m\u001b[38;5;124m marks\u001b[39m\u001b[38;5;124m\"\u001b[39m\u001b[38;5;241m.\u001b[39mformat(a))\n",
      "\u001b[0;31mNameError\u001b[0m: name 'a' is not defined"
     ]
    }
   ],
   "source": [
    "print(\"Amar's got {} marks\".format(a))"
   ]
  },
  {
   "cell_type": "code",
   "execution_count": 10,
   "id": "38028c54",
   "metadata": {},
   "outputs": [
    {
     "name": "stdout",
     "output_type": "stream",
     "text": [
      "12\n",
      "23\n",
      "35\n"
     ]
    }
   ],
   "source": [
    "eng = int(input())\n",
    "math = int(input())\n",
    "\n",
    "print(eng+math)"
   ]
  },
  {
   "cell_type": "code",
   "execution_count": 15,
   "id": "48abe49d",
   "metadata": {},
   "outputs": [
    {
     "name": "stdout",
     "output_type": "stream",
     "text": [
      "400\n",
      "Year given to check is 400\n",
      "not\n"
     ]
    }
   ],
   "source": [
    "Year = int(input())\n",
    "print('Year given to check is {}'.format(Year))\n",
    "\n",
    "if Year//100 == 0 and Year/4 ==:\n",
    "    print('12')\n",
    "else :\n",
    "    print(\"not\")"
   ]
  },
  {
   "cell_type": "code",
   "execution_count": 32,
   "id": "5f5460d0",
   "metadata": {},
   "outputs": [
    {
     "name": "stdout",
     "output_type": "stream",
     "text": [
      "tuesday\n",
      "not monday\n"
     ]
    }
   ],
   "source": [
    "x = str(input())\n",
    "if x == 'monday':\n",
    "    print(\"yes\")\n",
    "elif x == 'tuesday':\n",
    "        print(\"not monday\")\n",
    "else:\n",
    "    print('No')"
   ]
  },
  {
   "cell_type": "code",
   "execution_count": 37,
   "id": "8e7652f7",
   "metadata": {},
   "outputs": [
    {
     "name": "stdout",
     "output_type": "stream",
     "text": [
      "65\n",
      "fail\n"
     ]
    }
   ],
   "source": [
    "marks = int(input())\n",
    "if marks > 60 :\n",
    "    print(\"pass\")\n",
    "elif marks > 70:\n",
    "    print(\"congo, its grade A\")\n",
    "elif marks > 85:\n",
    "    print(\"A+\")\n",
    "else:\n",
    "    print(\"fail\")"
   ]
  },
  {
   "cell_type": "code",
   "execution_count": 58,
   "id": "4a52e837",
   "metadata": {},
   "outputs": [
    {
     "name": "stdout",
     "output_type": "stream",
     "text": [
      "82\n",
      "kaafi hai yaar\n"
     ]
    }
   ],
   "source": [
    "marks = int(input())\n",
    "if marks < 60 :\n",
    "    print(\"L lag gaye\")\n",
    "elif 60 <= marks <=70:\n",
    "    print(\"chalo bach gya\")\n",
    "elif 71 <= marks < 85:\n",
    "    print(\"kaafi hai yaar\")\n",
    "else:\n",
    "    print(\"phod diya\")"
   ]
  },
  {
   "cell_type": "code",
   "execution_count": 72,
   "id": "6e60eb30",
   "metadata": {},
   "outputs": [
    {
     "name": "stdout",
     "output_type": "stream",
     "text": [
      "fhasdjhfgsjk\n",
      "Das ist ein fehler\n"
     ]
    }
   ],
   "source": [
    "day = input()\n",
    "if day == 'monday':\n",
    "    print(\"Das ist montag\")\n",
    "elif day == 'tuesday':\n",
    "    print(\"Das ist dienstag\")\n",
    "elif day == 'wednesday':\n",
    "    print(\"Das ist mittwoch\")\n",
    "elif day == 'thursday':\n",
    "    print(\"Das ist donnerstag\")\n",
    "elif day == 'friday':\n",
    "    print(\"Das ist freitag\")\n",
    "elif day == 'saturday':\n",
    "    print(\"Das ist samstag\")\n",
    "elif day == \"sunday\":\n",
    "    print(\"Das ist sonntag, omg RUHETAG\")\n",
    "else:\n",
    "    print(\"Das ist ein fehler\")"
   ]
  },
  {
   "cell_type": "code",
   "execution_count": 29,
   "id": "92cfd557",
   "metadata": {},
   "outputs": [
    {
     "name": "stdout",
     "output_type": "stream",
     "text": [
      "2000\n",
      "Congratulations!!! You are eligible for driving license\n",
      "You are 24 years old.\n",
      "Age on date is 8760\n"
     ]
    }
   ],
   "source": [
    "#check for driving eligibility by date of year of birth\n",
    "year = int(input())\n",
    "eligibility = 2024 - year\n",
    "if eligibility > 18:\n",
    "        print('Congratulations!!! You are eligible for driving license')\n",
    "else:\n",
    "        print(\"Sorry you are not eligible for Driving license\")\n",
    "print(\"You are {} years old.\".format(eligibility))\n",
    "aid = (eligibility*365)\n",
    "print(\"Age on date is {}\".format(aid))\n"
   ]
  },
  {
   "cell_type": "code",
   "execution_count": 10,
   "id": "cb056d91",
   "metadata": {},
   "outputs": [
    {
     "name": "stdout",
     "output_type": "stream",
     "text": [
      "Enter the year = 1990\n",
      "Congratulations!!! You are eligible for driving license\n",
      "You are 34 years old.\n",
      "Your Age in days, as on date is 12410\n",
      "You were not born in a Leap year\n"
     ]
    }
   ],
   "source": [
    "#check for driving eligibility by date of year of birth, age in days and input and leap year\n",
    "year1 = int(input(\"Enter the year = \"))\n",
    "if 1900 <= year1 <= 2024:\n",
    "    eligibility = 2024 - year1\n",
    "    if eligibility > 18:\n",
    "        print('Congratulations!!! You are eligible for driving license')\n",
    "    else:\n",
    "        print(\"Sorry you are not eligible for Driving license\")\n",
    "    print(\"You are {} years old.\".format(eligibility))\n",
    "    aid = (eligibility*365)\n",
    "    print(\"Your Age in days, as on date is {}\".format(aid))\n",
    "    if (year1 % 4 == 0) and (year1 % 100 != 0):\n",
    "        print(\"Wow!, You were born in a Leap year\")\n",
    "    elif (year1 % 400 == 0):\n",
    "        print(\"Wow!, You were born in a Leap year\")\n",
    "    else:\n",
    "        print(\"You were not born in a Leap year\")\n",
    "else:\n",
    "    print(\"Invalid Year\")"
   ]
  },
  {
   "cell_type": "code",
   "execution_count": 9,
   "id": "ac126a17",
   "metadata": {},
   "outputs": [
    {
     "name": "stdout",
     "output_type": "stream",
     "text": [
      "2020\n",
      "Leap Year\n"
     ]
    }
   ],
   "source": [
    "#check leap year\n",
    "#logic divisible by 4 but not by 100 also divisible by 400 for centuries\n",
    "year = int(input())\n",
    "if (year % 4 == 0) and (year % 100 != 0):\n",
    "    print(\"Leap Year\")\n",
    "elif (year % 400 == 0):\n",
    "    print(\"Leap year\")\n",
    "else:\n",
    "    print(\"Not a leap year\")"
   ]
  },
  {
   "cell_type": "code",
   "execution_count": 20,
   "id": "ead453a5",
   "metadata": {},
   "outputs": [
    {
     "name": "stdout",
     "output_type": "stream",
     "text": [
      "Enter bro: 23\n",
      "yes, It's Prime.\n"
     ]
    }
   ],
   "source": [
    "#prime number program\n",
    "#number should be divisible by itself or one\n",
    "\n",
    "i = int(input(\"Enter bro: \" ))\n",
    "\n",
    "for x in range(2,i):\n",
    "    if i % x == 0:\n",
    "        print(\"Sorry, It's not prime.\")\n",
    "        break\n",
    "else:\n",
    "    print(\"yes, It's Prime.\")"
   ]
  },
  {
   "cell_type": "code",
   "execution_count": 6,
   "id": "c86e53e4",
   "metadata": {},
   "outputs": [
    {
     "name": "stdout",
     "output_type": "stream",
     "text": [
      "HI, Amar\n",
      "HI, Akki\n",
      "HI, vali\n"
     ]
    }
   ],
   "source": [
    "frnds = [\"Amar\", \"Akki\", \"vali\"]\n",
    "for i in frnds:\n",
    "    print(\"HI, {}\".format(i))\n",
    "    "
   ]
  },
  {
   "cell_type": "code",
   "execution_count": 7,
   "id": "d602471d",
   "metadata": {},
   "outputs": [
    {
     "name": "stdout",
     "output_type": "stream",
     "text": [
      "I love Audi\n",
      "I love VW\n",
      "I love Porsche\n"
     ]
    }
   ],
   "source": [
    "cars = [\"Audi\",\"VW\",\"Porsche\"]\n",
    "\n",
    "for i in cars:\n",
    "    print(\"I love {}\".format(i))"
   ]
  },
  {
   "cell_type": "code",
   "execution_count": 4,
   "id": "cf002cb3",
   "metadata": {},
   "outputs": [
    {
     "name": "stdout",
     "output_type": "stream",
     "text": [
      "Enter the number you wish to: 5\n",
      "0\n",
      "1\n",
      "2\n",
      "3\n",
      "4\n",
      "6\n",
      "7\n",
      "8\n",
      "9\n"
     ]
    }
   ],
   "source": [
    "x5 = int(input(\"Enter the number you wish to: \"))\n",
    "for i in range(0,10):\n",
    "    if i == x5:\n",
    "        continue\n",
    "    print(i)"
   ]
  },
  {
   "cell_type": "code",
   "execution_count": 5,
   "id": "c559388d",
   "metadata": {},
   "outputs": [
    {
     "name": "stdout",
     "output_type": "stream",
     "text": [
      "Enter the number you wish to: 4\n",
      "0\n",
      "1\n",
      "2\n",
      "3\n"
     ]
    }
   ],
   "source": [
    "x5 = int(input(\"Enter the number you wish to: \"))\n",
    "for i in range(0,10):\n",
    "    if i == x5:\n",
    "        break\n",
    "    print(i)"
   ]
  },
  {
   "cell_type": "code",
   "execution_count": 35,
   "id": "d9f6341a",
   "metadata": {},
   "outputs": [],
   "source": [
    "obj=open(\"new_file.txt\",'w+')\n",
    "obj.write(\"Good morming.\")\n",
    "\n",
    "obj.write(\"Extra line22\")\n",
    "\n",
    "obj.close()\n"
   ]
  },
  {
   "cell_type": "code",
   "execution_count": 78,
   "id": "236a477b",
   "metadata": {
    "scrolled": true
   },
   "outputs": [
    {
     "name": "stdout",
     "output_type": "stream",
     "text": [
      "hello amar\n"
     ]
    }
   ],
   "source": [
    "file = open(\"rac.txt\",\"r\")    #f = open(\"demofile.txt\", \"r\") ----- print(f.read())\n",
    "\n",
    "data=file.readlines()\n",
    "\n",
    "for i in data:\n",
    "    print(i)\n",
    "    \"\"\"\"if data == \"hello amar\":\n",
    "        print(\"password accepted\")\n",
    "    else:\n",
    "        print(\"F\")\"\"\""
   ]
  },
  {
   "cell_type": "code",
   "execution_count": 49,
   "id": "76d680b0",
   "metadata": {},
   "outputs": [
    {
     "name": "stdout",
     "output_type": "stream",
     "text": [
      "Please type the secret wordkey\n",
      "Hi, I am a new file\n"
     ]
    }
   ],
   "source": [
    "pass1 = \"key\"\n",
    "Type = input(\"Please type the secret word\")\n",
    "\n",
    "if pass1 == Type:\n",
    "\n",
    "    amar = open(\"amar_rac.txt\",'r')\n",
    "    data=amar.read()\n",
    "    print(data)\n",
    "    amar.close()\n",
    "\n",
    "else:\n",
    "    print(\"wrong password\")"
   ]
  },
  {
   "cell_type": "code",
   "execution_count": 3,
   "id": "03cd68b8",
   "metadata": {
    "scrolled": true
   },
   "outputs": [
    {
     "name": "stdout",
     "output_type": "stream",
     "text": [
      "Enter password please :AMAR\n"
     ]
    }
   ],
   "source": [
    "qwer = input(\"Enter password please :\")\n",
    "amara = open(\"amar_rac.txt\")\n",
    "for i in amara.readlines():\n",
    "    if(i == \"amar:\"+qwer):\n",
    "        print(\"Correct\")\n",
    "        print(amara.read())\n",
    "        \n",
    "amara.close()\n"
   ]
  },
  {
   "cell_type": "code",
   "execution_count": 7,
   "id": "350094cc",
   "metadata": {},
   "outputs": [
    {
     "name": "stdout",
     "output_type": "stream",
     "text": [
      "Enter passwordAMAR\n",
      "Correct\n",
      "['SAMPLE FILE WITH PASSWORD\\n', '\\n', '#PASSWORD:AMAR']\n"
     ]
    }
   ],
   "source": [
    "password=input(\"Enter password\")\n",
    "\n",
    "f=open(\"datafile.txt\")\n",
    "data = f.readlines()\n",
    "for i in data:\n",
    "    if(i == \"#PASSWORD:\"+password):\n",
    "        print(\"Correct\")\n",
    "        print(data)\n",
    "        \n",
    "        \n"
   ]
  },
  {
   "cell_type": "code",
   "execution_count": 10,
   "id": "edc5d969",
   "metadata": {},
   "outputs": [
    {
     "name": "stdout",
     "output_type": "stream",
     "text": [
      "sum of two numbers is \n",
      "9\n",
      "1\n"
     ]
    }
   ],
   "source": [
    "def add():\n",
    "    print(\"sum of two numbers is \")\n",
    "\n",
    "def square(a):\n",
    "    print(a*a)\n",
    "\n",
    "def odd(a):\n",
    "    return a & 1\n",
    "\n",
    "        \n",
    "        \n",
    "add()\n",
    "\n",
    "square(3)\n",
    "\n",
    "print(odd(3))\n"
   ]
  },
  {
   "cell_type": "code",
   "execution_count": 12,
   "id": "526058f2",
   "metadata": {},
   "outputs": [
    {
     "name": "stdout",
     "output_type": "stream",
     "text": [
      "ok\n"
     ]
    },
    {
     "data": {
      "text/plain": [
       "<function __main__.amar()>"
      ]
     },
     "execution_count": 12,
     "metadata": {},
     "output_type": "execute_result"
    }
   ],
   "source": [
    "def amar():\n",
    "    print(\"ok\")\n",
    "    return amar\n",
    "\n",
    "\n",
    "amar()"
   ]
  },
  {
   "cell_type": "code",
   "execution_count": 22,
   "id": "9dea461c",
   "metadata": {},
   "outputs": [
    {
     "name": "stdout",
     "output_type": "stream",
     "text": [
      "1\n",
      "2\n",
      "3\n",
      "3  is greater.\n"
     ]
    }
   ],
   "source": [
    "a = int(input())\n",
    "b = int(input())\n",
    "c = int(input())\n",
    "\n",
    "def greater(x,y,z):\n",
    "    if x>y:\n",
    "        print(x,\" is greater.\")\n",
    "        return 0\n",
    "    elif x>z:\n",
    "        print(y ,\" is greater.\")\n",
    "        return 0\n",
    "    else      :\n",
    "        print(z,\" is greater.\")\n",
    "    \n",
    "greater(a,b,c)\n",
    "        "
   ]
  },
  {
   "cell_type": "code",
   "execution_count": 25,
   "id": "94219136",
   "metadata": {},
   "outputs": [
    {
     "name": "stdout",
     "output_type": "stream",
     "text": [
      "1\n",
      "3\n",
      "4\n",
      "5\n",
      "13\n"
     ]
    }
   ],
   "source": [
    "a = int(input())\n",
    "b = int(input())\n",
    "c = int(input())\n",
    "d = int(input())\n",
    "\n",
    "def amar(x,y,z,k):\n",
    "    print(a+b+c+d)\n",
    "    \n",
    "amar(a,b,c,d)\n"
   ]
  },
  {
   "cell_type": "code",
   "execution_count": 35,
   "id": "b42534aa",
   "metadata": {},
   "outputs": [
    {
     "name": "stdout",
     "output_type": "stream",
     "text": [
      "Enter marks in English: 67\n",
      "Enter marks in Maths: 67\n",
      "Enter marks in Social studies: 67\n",
      "Enter marks in Science: 67\n",
      "Enter marks in English: 67\n",
      "Enter marks in Maths: 67\n",
      "Enter marks in Social studies: 67\n",
      "Enter marks in Science: 67\n",
      "Average marks gained are:  67.0\n",
      "sum of marks gained by amar:  268\n",
      "sum of marks gained by vali:  268\n",
      "% of Amar'marks is   None\n",
      "% of Vali'marks is   None\n"
     ]
    }
   ],
   "source": [
    "eng = int(input(\"Enter marks in English: \"))\n",
    "math = int(input(\"Enter marks in Maths: \"))\n",
    "sst = int(input(\"Enter marks in Social studies: \"))\n",
    "science = int(input(\"Enter marks in Science: \"))\n",
    "\n",
    "eng1 = int(input(\"Enter marks in English: \"))\n",
    "math1 = int(input(\"Enter marks in Maths: \"))\n",
    "sst1 = int(input(\"Enter marks in Social studies: \"))\n",
    "science1 = int(input(\"Enter marks in Science: \"))\n",
    "\n",
    "def marks(x,y,z,a):\n",
    "    print(\"Average marks gained are: \",(x+y+z+a)/4)\n",
    "    \n",
    "def sum_marks(x,y,z,a):\n",
    "    v= x+y+z+a\n",
    "    return v\n",
    "    #print(\"sum of marks gained is: \", x+y+z+a)\n",
    "    \n",
    "def percentage(x,y,z,a):\n",
    "    per = ((x+y+z+a)/400)*100\n",
    "    \n",
    "marks(eng,math,sst,science)\n",
    "x=sum_marks(eng,math,sst,science)\n",
    "print(\"sum of marks gained by amar: \", x)\n",
    "\n",
    "y=sum_marks(eng1,math1,sst1,science1)\n",
    "print(\"sum of marks gained by vali: \", y)\n",
    "\n",
    "m = percentage(eng,math,sst,science)\n",
    "print(\"% of Amar's marks is  \", m)\n",
    "\n",
    "n = percentage(eng1,math1,sst1,science1)\n",
    "print(\"% of Vali's marks is  \", n)\n"
   ]
  },
  {
   "cell_type": "code",
   "execution_count": 17,
   "id": "0b9d4817",
   "metadata": {},
   "outputs": [
    {
     "name": "stdout",
     "output_type": "stream",
     "text": [
      "enter marks of Amar56\n",
      "enter marks of Amar56\n",
      "enter marks of Vali67\n",
      "enter marks of Vali67\n",
      "enter marks of Akki34\n",
      "enter marks of Akki34\n",
      "Percentage of Amar is  56.00000000000001\n",
      "Percentage of Vali is  67.0\n",
      "Percentage of Akki is  34.0\n",
      "Vali got the highest\n"
     ]
    }
   ],
   "source": [
    "eng1 = int(input(\"enter marks of Amar\"))\n",
    "sst1 = int(input(\"enter marks of Amar\"))\n",
    "eng2 = int(input(\"enter marks of Vali\"))\n",
    "sst2 = int(input(\"enter marks of Vali\"))\n",
    "eng3 = int(input(\"enter marks of Akki\"))\n",
    "sst3 = int(input(\"enter marks of Akki\"))\n",
    "\n",
    "def percentage(a,b):\n",
    "    per = ((a+b)/200)*100\n",
    "    return per\n",
    "\n",
    "def greater(c,d,e):\n",
    "    val=(max(c,d,e))\n",
    "    if val== c:\n",
    "        print('Amar got the highest')\n",
    "        return 0\n",
    "    elif val== d:\n",
    "        print('Vali got the highest')\n",
    "        return 0\n",
    "    else:\n",
    "        print('Akki got the highest')\n",
    "        \n",
    "c = percentage(eng1,sst1)\n",
    "print(\"Percentage of Amar is \", c)\n",
    "d = percentage(eng2,sst2)\n",
    "print(\"Percentage of Vali is \", d)\n",
    "e = percentage(eng3,sst3)\n",
    "print(\"Percentage of Akki is \", e)\n",
    "f = greater(c,d,e)\n"
   ]
  },
  {
   "cell_type": "code",
   "execution_count": null,
   "id": "e2fc5066",
   "metadata": {},
   "outputs": [],
   "source": []
  }
 ],
 "metadata": {
  "kernelspec": {
   "display_name": "Python 3 (ipykernel)",
   "language": "python",
   "name": "python3"
  },
  "language_info": {
   "codemirror_mode": {
    "name": "ipython",
    "version": 3
   },
   "file_extension": ".py",
   "mimetype": "text/x-python",
   "name": "python",
   "nbconvert_exporter": "python",
   "pygments_lexer": "ipython3",
   "version": "3.11.7"
  }
 },
 "nbformat": 4,
 "nbformat_minor": 5
}
